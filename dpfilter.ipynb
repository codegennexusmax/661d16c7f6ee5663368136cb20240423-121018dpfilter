{
 "cells": [
  {
   "cell_type": "markdown",
   "id": "ae073a0e",
   "metadata": {},
   "source": [
    "***GENERATED CODE FOR dpfilter PIPELINE.***"
   ]
  },
  {
   "cell_type": "markdown",
   "id": "604dc46c",
   "metadata": {},
   "source": [
    "***DON'T EDIT THIS CODE.***"
   ]
  },
  {
   "cell_type": "markdown",
   "id": "cc14728c",
   "metadata": {},
   "source": [
    "***CONNECTOR FUNCTIONS TO READ DATA.***"
   ]
  },
  {
   "cell_type": "code",
   "execution_count": null,
   "id": "dafd3706",
   "metadata": {},
   "outputs": [],
   "source": [
    "import os\n",
    "import datetime\n",
    "import logging\n",
    "import warnings\n",
    "warnings.filterwarnings('ignore')\n",
    "logging.basicConfig(format='%(levelname)s:%(message)s', level=logging.INFO)\n",
    "\n",
    "\n",
    "class HDFSConnector:\n",
    "\n",
    "    def fetch(spark, config):\n",
    "        ################### INPUT HADOOP HOST PORT TO CONNECT WITH ###############################\n",
    "        hdfs_server = str(os.environ['HDFS_SERVER'])\n",
    "        hdfs_port = int(os.environ['HDFS_PORT'])\n",
    "        df = spark.read.options(header='true', inferschema='true').csv(\n",
    "            f\"hdfs://{hdfs_server}:{hdfs_port}{eval(config)['url']}\", header='true')\n",
    "        display(df.limit(2).toPandas())\n",
    "        return df\n",
    "\n",
    "    def put(df, spark, config):\n",
    "        return df.write.format('csv').options(header='true' if eval(config)[\"is_header\"] == \"Use Header Line\" else 'false',\n",
    "                                              delimiter=eval(config)[\"delimiter\"]).save((\"%s %s\") % (datetime.datetime.now().strftime(\"%Y-%m-%d %H.%M.%S\")+\"_\", eval(config)['url']))\n"
   ]
  },
  {
   "cell_type": "markdown",
   "id": "5c7c0101",
   "metadata": {},
   "source": [
    "***OPERATION FUNCTIONS***"
   ]
  },
  {
   "cell_type": "code",
   "execution_count": null,
   "id": "d25a1322",
   "metadata": {},
   "outputs": [],
   "source": [
    "\n",
    "class Where:\n",
    "    custom = False\n",
    "    column1Name = \"column1Name\"\n",
    "    column2Name = \"column2Name\"\n",
    "    customValue = \"customValue\"\n",
    "    valueType = \"valueType\"\n",
    "    operator = \"operator\"\n",
    "    combinator = \"combinator\"\n",
    "\n",
    "    def __init__(self, custom, column1Name, column2Name, customValue, valueType, operator, combinator):\n",
    "        self.custom = custom\n",
    "        self.column1Name = column1Name\n",
    "        self.column2Name = column2Name\n",
    "        self.customValue = customValue\n",
    "        self.valueType = valueType\n",
    "        self.operator = operator\n",
    "        self.combinator = combinator\n",
    "\n",
    "\n",
    "class FilterOperation:\n",
    "\n",
    "    def __init__(self):\n",
    "        pass\n",
    "\n",
    "    @staticmethod\n",
    "    def parse(attributes):\n",
    "        filters = []\n",
    "        for filter in attributes[\"expression\"]:\n",
    "            filters.append(Where(filter[\"custom\"],\n",
    "                                 filter[\"column1_name\"] or None,\n",
    "                                 filter[\"column2_name\"] or None,\n",
    "                                 filter[\"custom_value\"] or None,\n",
    "                                 filter[\"value_type\"] or None,\n",
    "                                 filter[\"operator\"] or None,\n",
    "                                 filter[\"combinator\"] or \"\"))\n",
    "        return filters\n",
    "\n",
    "    def run(inStages, inStagesData, stageId, sparkSession, stageAttribs):\n",
    "        filters = FilterOperation.parse(eval(stageAttribs))\n",
    "        whereClause = \"\"\n",
    "        for f in filters:\n",
    "            if f.custom:\n",
    "                customValue = f.customValue\n",
    "                if f.valueType.lower() == \"string\":\n",
    "                    customValue = \"'\" + customValue + \"'\"\n",
    "                whereClause += \"%s %s %s %s \" % (f.combinator,\n",
    "                                                 f.column1Name, f.operator, customValue)\n",
    "            else:\n",
    "                whereClause += \"%s %s %s %s \" % (f.combinator,\n",
    "                                                 f.column1Name, f.operator, f.column2Name)\n",
    "\n",
    "        inStagesData[inStages[0]].createOrReplaceTempView(\"view%s\" % (stageId))\n",
    "        query = \"SELECT * FROM %s WHERE %s\" % (\"view%s\" %\n",
    "                                               (stageId), whereClause)\n",
    "        return sparkSession.sql(query)\n"
   ]
  },
  {
   "cell_type": "markdown",
   "id": "eb85188d",
   "metadata": {},
   "source": [
    "***CONNECTOR FUNCTIONS TO WRITE DATA.***"
   ]
  },
  {
   "cell_type": "code",
   "execution_count": null,
   "id": "30d5cee8",
   "metadata": {},
   "outputs": [],
   "source": [
    "import datetime\n",
    "import requests\n",
    "import datetime\n",
    "import logging\n",
    "import warnings\n",
    "warnings.filterwarnings('ignore')\n",
    "logging.basicConfig(format='%(levelname)s:%(message)s', level=logging.INFO)\n",
    "\n",
    "\n",
    "class NumtraConnector:\n",
    "\n",
    "    def put(inStages, inStagesData, stageId, spark, config):\n",
    "        path = eval(config)['server_url']\n",
    "        baseType = eval(config)['baseType']\n",
    "        results_url = eval(config)['results_url']\n",
    "        server = eval(config)['server']\n",
    "        originalfile = eval(config)['orignalKey']\n",
    "        eval(config)['pathOnly']\n",
    "        filename = eval(config)['filename']\n",
    "        eval(config)['ser']\n",
    "        eval(config)['user']\n",
    "        eval(config)['password']\n",
    "        eval(config)['authSource']\n",
    "        eval(config)['user_id']\n",
    "        eval(config)['parent_id']\n",
    "        eval(config)['project_id']\n",
    "        time = str(int(datetime.datetime.now().timestamp()))\n",
    "\n",
    "        inStagesData[inStages[0]]\n",
    "\n",
    "        print(path)\n",
    "        print(baseType)\n",
    "        print(results_url)\n",
    "        print(server)\n",
    "        print(originalfile)\n",
    "        print(filename)\n",
    "\n",
    "        args = {\n",
    "            'url': path,\n",
    "            'baseType': baseType,\n",
    "            'originalfile': originalfile,\n",
    "            'filename': time + filename\n",
    "        }\n",
    "\n",
    "        response = requests.post(results_url, args)\n",
    "        return response\n"
   ]
  },
  {
   "cell_type": "markdown",
   "id": "37212595",
   "metadata": {},
   "source": [
    "***READING DATAFRAME***"
   ]
  },
  {
   "cell_type": "code",
   "execution_count": null,
   "id": "fd010bb1",
   "metadata": {},
   "outputs": [],
   "source": [
    "############## CREATE SPARK SESSION ############################ ENTER YOUR SPARK MASTER IP AND PORT TO CONNECT TO SERVER ################\n",
    "from pyspark.sql import SparkSession\n",
    "spark = SparkSession.builder.master('local[1]').getOrCreate()\n",
    "#%run dpfilterHooks.ipynb\n",
    "try:\n",
    "\t#sourcePreExecutionHook()\n",
    "\n",
    "\theartfailuretrain = HDFSConnector.fetch(spark, \"{'url': '/FileStore/platform/testdata/1713873357676_HeartFailureHistory.csv', 'filename': 'HeartFailureTrain.csv', 'delimiter': ',', 'file_type': 'Delimeted', 'dbfs_token': '', 'dbfs_domain': '', 'FilePath': '/OperatorsTest/OperatorsDataset/HeartFailureTrain.csv', 'viewFileName': 'HeartFailureTrain.csv', 'is_header': 'Use Header Line', 'baseType': 'hdfs', 'server_url': '/nexusMax/NexusMaxPlatform/uploads/platform/', 'results_url': 'http://dnm.bfirst.ai:44040/api/read/hdfs'}\")\n",
    "\n",
    "except Exception as ex: \n",
    "\tlogging.error(ex)\n",
    "#spark.stop()\n"
   ]
  },
  {
   "cell_type": "markdown",
   "id": "0e6438c7",
   "metadata": {},
   "source": [
    "***PERFORMING OPERATIONS***"
   ]
  },
  {
   "cell_type": "code",
   "execution_count": null,
   "id": "cce91cdd",
   "metadata": {},
   "outputs": [],
   "source": [
    "#%run dpfilterHooks.ipynb\n",
    "try:\n",
    "\tfilter = FilterOperation.run([\"661d16d4f6ee5663368136dd\"],{\"661d16d4f6ee5663368136dd\": heartfailuretrain}, \"661d16d8f6ee5663368136e1\", spark, \"{'url': '/FileStore/platform/testdata/1713873357676_HeartFailureHistory.csv', 'expression': [{'column1_name': 'age', 'operator': '>=', 'column2_name': '', 'custom': True, 'custom_value': '40', 'value_type': 'numeric', 'combinator': '', 'showOptions': True}], 'use_expression': True, 'regex': [], 'use_regex': False, 'server_url': '/nexusMax/NexusMaxPlatform/uploads/platform/'}\")\n",
    "\n",
    "except Exception as ex: \n",
    "\tlogging.error(ex)\n"
   ]
  },
  {
   "cell_type": "markdown",
   "id": "6fe7d32a",
   "metadata": {},
   "source": [
    "***WRITING DATAFRAME***"
   ]
  },
  {
   "cell_type": "code",
   "execution_count": null,
   "id": "6a86e5fe",
   "metadata": {},
   "outputs": [],
   "source": [
    "#%run dpfilterHooks.ipynb\n",
    "try:\n",
    "\t#sinkPreExecutionHook()\n",
    "\n",
    "\toperatorsdatasetoutput = NumtraConnector.fetch(spark, \"{'samplefile': '/FileStore/platform/sampleData/661d16d4f6ee5663368136dd/part-00000-e01423c4-2023-4766-b73a-80f6cad409ea-c000.csv', 'samplecount': 299, 'originalcount': 299, 'orignalKey': '/FileStore/platform/testdata/1713873357676_HeartFailureHistory.csv', 'pathOnly': '/OperatorsTest/OperatorsDataset', 'project_id': '6627a219b6d893f4c9a9ee24', 'parent_id': '6627a219b6d893f4c9a9ee24', 'original_schema': [{'checked': True, 'inherited': True, 'is_categorical': False, 'bad_values': '', 'nullable': 'true', '_id': '6627a4f0b6d893f4c9a9f001', 'field': 'age', 'alias': 'age', 'type': 'real', 'position': '0'}, {'checked': True, 'inherited': True, 'is_categorical': False, 'bad_values': '', 'nullable': 'true', '_id': '6627a4f0b6d893f4c9a9f002', 'field': 'anaemia', 'alias': 'anaemia', 'type': 'numeric', 'position': '1'}, {'checked': True, 'inherited': True, 'is_categorical': False, 'bad_values': '', 'nullable': 'true', '_id': '6627a4f0b6d893f4c9a9f003', 'field': 'creatinine_phosphokinase', 'alias': 'creatinine_phosphokinase', 'type': 'numeric', 'position': '2'}, {'checked': True, 'inherited': True, 'is_categorical': False, 'bad_values': '', 'nullable': 'true', '_id': '6627a4f0b6d893f4c9a9f004', 'field': 'diabetes', 'alias': 'diabetes', 'type': 'numeric', 'position': '3'}, {'checked': True, 'inherited': True, 'is_categorical': False, 'bad_values': '', 'nullable': 'true', '_id': '6627a4f0b6d893f4c9a9f005', 'field': 'ejection_fraction', 'alias': 'ejection_fraction', 'type': 'numeric', 'position': '4'}, {'checked': True, 'inherited': True, 'is_categorical': False, 'bad_values': '', 'nullable': 'true', '_id': '6627a4f0b6d893f4c9a9f006', 'field': 'high_blood_pressure', 'alias': 'high_blood_pressure', 'type': 'numeric', 'position': '5'}, {'checked': True, 'inherited': True, 'is_categorical': False, 'bad_values': '', 'nullable': 'true', '_id': '6627a4f0b6d893f4c9a9f007', 'field': 'platelets', 'alias': 'platelets', 'type': 'real', 'position': '6'}, {'checked': True, 'inherited': True, 'is_categorical': False, 'bad_values': '', 'nullable': 'true', '_id': '6627a4f0b6d893f4c9a9f008', 'field': 'serum_creatinine', 'alias': 'serum_creatinine', 'type': 'real', 'position': '7'}, {'checked': True, 'inherited': True, 'is_categorical': False, 'bad_values': '', 'nullable': 'true', '_id': '6627a4f0b6d893f4c9a9f009', 'field': 'serum_sodium', 'alias': 'serum_sodium', 'type': 'numeric', 'position': '8'}, {'checked': True, 'inherited': True, 'is_categorical': False, 'bad_values': '', 'nullable': 'true', '_id': '6627a4f0b6d893f4c9a9f00a', 'field': 'sex', 'alias': 'sex', 'type': 'numeric', 'position': '9'}, {'checked': True, 'inherited': True, 'is_categorical': False, 'bad_values': '', 'nullable': 'true', '_id': '6627a4f0b6d893f4c9a9f00b', 'field': 'smoking', 'alias': 'smoking', 'type': 'numeric', 'position': '10'}, {'checked': True, 'inherited': True, 'is_categorical': False, 'bad_values': '', 'nullable': 'true', '_id': '6627a4f0b6d893f4c9a9f00c', 'field': 'time', 'alias': 'time', 'type': 'numeric', 'position': '11'}, {'checked': True, 'inherited': True, 'is_categorical': False, 'bad_values': '', 'nullable': 'true', '_id': '6627a4f0b6d893f4c9a9f00d', 'field': 'DEATH_EVENT', 'alias': 'DEATH_EVENT', 'type': 'numeric', 'position': '12'}], 'actual_schema': [{'checked': True, 'inherited': True, 'is_categorical': False, 'bad_values': '', 'nullable': 'true', '_id': '6627a4f0b6d893f4c9a9eff4', 'field': 'age', 'alias': 'age', 'type': 'real', 'position': '0'}, {'checked': True, 'inherited': True, 'is_categorical': False, 'bad_values': '', 'nullable': 'true', '_id': '6627a4f0b6d893f4c9a9eff5', 'field': 'anaemia', 'alias': 'anaemia', 'type': 'numeric', 'position': '1'}, {'checked': True, 'inherited': True, 'is_categorical': False, 'bad_values': '', 'nullable': 'true', '_id': '6627a4f0b6d893f4c9a9eff6', 'field': 'creatinine_phosphokinase', 'alias': 'creatinine_phosphokinase', 'type': 'numeric', 'position': '2'}, {'checked': True, 'inherited': True, 'is_categorical': False, 'bad_values': '', 'nullable': 'true', '_id': '6627a4f0b6d893f4c9a9eff7', 'field': 'diabetes', 'alias': 'diabetes', 'type': 'numeric', 'position': '3'}, {'checked': True, 'inherited': True, 'is_categorical': False, 'bad_values': '', 'nullable': 'true', '_id': '6627a4f0b6d893f4c9a9eff8', 'field': 'ejection_fraction', 'alias': 'ejection_fraction', 'type': 'numeric', 'position': '4'}, {'checked': True, 'inherited': True, 'is_categorical': False, 'bad_values': '', 'nullable': 'true', '_id': '6627a4f0b6d893f4c9a9eff9', 'field': 'high_blood_pressure', 'alias': 'high_blood_pressure', 'type': 'numeric', 'position': '5'}, {'checked': True, 'inherited': True, 'is_categorical': False, 'bad_values': '', 'nullable': 'true', '_id': '6627a4f0b6d893f4c9a9effa', 'field': 'platelets', 'alias': 'platelets', 'type': 'real', 'position': '6'}, {'checked': True, 'inherited': True, 'is_categorical': False, 'bad_values': '', 'nullable': 'true', '_id': '6627a4f0b6d893f4c9a9effb', 'field': 'serum_creatinine', 'alias': 'serum_creatinine', 'type': 'real', 'position': '7'}, {'checked': True, 'inherited': True, 'is_categorical': False, 'bad_values': '', 'nullable': 'true', '_id': '6627a4f0b6d893f4c9a9effc', 'field': 'serum_sodium', 'alias': 'serum_sodium', 'type': 'numeric', 'position': '8'}, {'checked': True, 'inherited': True, 'is_categorical': False, 'bad_values': '', 'nullable': 'true', '_id': '6627a4f0b6d893f4c9a9effd', 'field': 'sex', 'alias': 'sex', 'type': 'numeric', 'position': '9'}, {'checked': True, 'inherited': True, 'is_categorical': False, 'bad_values': '', 'nullable': 'true', '_id': '6627a4f0b6d893f4c9a9effe', 'field': 'smoking', 'alias': 'smoking', 'type': 'numeric', 'position': '10'}, {'checked': True, 'inherited': True, 'is_categorical': False, 'bad_values': '', 'nullable': 'true', '_id': '6627a4f0b6d893f4c9a9efff', 'field': 'time', 'alias': 'time', 'type': 'numeric', 'position': '11'}, {'checked': True, 'inherited': True, 'is_categorical': False, 'bad_values': '', 'nullable': 'true', '_id': '6627a4f0b6d893f4c9a9f000', 'field': 'DEATH_EVENT', 'alias': 'DEATH_EVENT', 'type': 'numeric', 'position': '12'}], 'server': 'https://dnm.bfirst.ai:443', 'server_url': '/nexusMax/NexusMaxPlatform/uploads/platform/', 'delimiter': ',', 'file_type': 'Delimeted', 'filename': 'HeartFailureFilter.csv', 'token': '', 'domain': '', 'is_header': 'Use Header Line', 'url': '/FileStore/platform/uploadedSourceFiles/part-00000-c064619f-1967-4088-b43f-42a10930c499-c000.csv', 'results_url': 'http://dnm.bfirst.ai:44040/api/read/hdfs'}\")\n",
    "\n",
    "except Exception as ex: \n",
    "\tlogging.error(ex)\n"
   ]
  }
 ],
 "metadata": {},
 "nbformat": 4,
 "nbformat_minor": 5
}
